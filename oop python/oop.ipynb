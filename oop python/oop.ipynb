{
 "cells": [
  {
   "cell_type": "code",
   "execution_count": 60,
   "metadata": {},
   "outputs": [
    {
     "name": "stdout",
     "output_type": "stream",
     "text": [
      "<class 'int'>\n"
     ]
    }
   ],
   "source": [
    "x=1   #1 is object in class int\n",
    "print(type(x))"
   ]
  },
  {
   "cell_type": "code",
   "execution_count": 61,
   "metadata": {},
   "outputs": [
    {
     "name": "stdout",
     "output_type": "stream",
     "text": [
      "<class 'str'>\n"
     ]
    }
   ],
   "source": [
    "x=\"abc\"     #abc is object in class string\n",
    "print(type(x))"
   ]
  },
  {
   "cell_type": "code",
   "execution_count": 62,
   "metadata": {},
   "outputs": [
    {
     "name": "stdout",
     "output_type": "stream",
     "text": [
      "GEHAD\n"
     ]
    }
   ],
   "source": [
    "x='gehad'\n",
    "print(x.upper())   #upper is mwthod in class string only"
   ]
  },
  {
   "cell_type": "code",
   "execution_count": 63,
   "metadata": {},
   "outputs": [
    {
     "name": "stdout",
     "output_type": "stream",
     "text": [
      "<__main__.Student object at 0x0000022698F5F210> <__main__.Student object at 0x0000022698F5FF10>\n",
      "2\n"
     ]
    }
   ],
   "source": [
    "class Student:\n",
    "    no_of_stident=0\n",
    "    def __init__(self,name,age=0,couurses='none'):\n",
    "        self.name=name     #obj attribute pr instance attribute\n",
    "        self.age=age\n",
    "        self.courses=couurses\n",
    "        Student.no_of_stident+=1\n",
    "\n",
    "student1=Student(\"ahmed\",22,[\"python\",'ml'])\n",
    "student2=Student(\"ahmed\",22,[\"python\",'ml'])\n",
    "print(student1,student2)   #diffrent location\n",
    "print(Student.no_of_stident)\n",
    "\n"
   ]
  },
  {
   "cell_type": "code",
   "execution_count": 64,
   "metadata": {},
   "outputs": [],
   "source": [
    "class Human:\n",
    "    name=None\n",
    "    gender=None\n",
    "    email=None"
   ]
  },
  {
   "cell_type": "code",
   "execution_count": 65,
   "metadata": {},
   "outputs": [],
   "source": [
    "a=Human() ## a is an object of class human "
   ]
  },
  {
   "cell_type": "code",
   "execution_count": 66,
   "metadata": {},
   "outputs": [
    {
     "name": "stdout",
     "output_type": "stream",
     "text": [
      "<class '__main__.Human'>\n"
     ]
    }
   ],
   "source": [
    "print(type(a))"
   ]
  },
  {
   "cell_type": "code",
   "execution_count": 67,
   "metadata": {},
   "outputs": [],
   "source": [
    "a.name=\"gehad\"\n",
    "a.gender=\"female\"\n",
    "a.email=\"gehad@gmail.com\""
   ]
  },
  {
   "cell_type": "code",
   "execution_count": 68,
   "metadata": {},
   "outputs": [
    {
     "name": "stdout",
     "output_type": "stream",
     "text": [
      "gehad\n"
     ]
    }
   ],
   "source": [
    "print(a.name)"
   ]
  },
  {
   "cell_type": "code",
   "execution_count": 69,
   "metadata": {},
   "outputs": [],
   "source": [
    "class Human:\n",
    "    def __init__(self):\n",
    "        print(\"Welcome Human\")\n",
    "        self.name = input(\"please enter your name: \")\n",
    "        self.gender = input(\"please enter your gender:\") \n",
    "        self.email = input('please enter your email: ') \n",
    "\n",
    "    def eat(self):\n",
    "        print(\"hmmm\")\n",
    "\n",
    "    def sleep(self):\n",
    "        print(\"zzzzz\")\n",
    "\n",
    "    def cry(self):\n",
    "        print(\"waaa\")\n",
    "\n",
    "    def printdata(self):\n",
    "        print(self.name,self.gender,self.email)"
   ]
  },
  {
   "cell_type": "code",
   "execution_count": 70,
   "metadata": {},
   "outputs": [
    {
     "name": "stdout",
     "output_type": "stream",
     "text": [
      "Welcome Human\n"
     ]
    }
   ],
   "source": [
    "newHuman=Human()"
   ]
  },
  {
   "cell_type": "code",
   "execution_count": 71,
   "metadata": {},
   "outputs": [
    {
     "name": "stdout",
     "output_type": "stream",
     "text": [
      "gehad female gehad@gmail.com\n"
     ]
    }
   ],
   "source": [
    "newHuman.printdata()"
   ]
  },
  {
   "cell_type": "code",
   "execution_count": 72,
   "metadata": {},
   "outputs": [
    {
     "name": "stdout",
     "output_type": "stream",
     "text": [
      "waaa\n"
     ]
    }
   ],
   "source": [
    "newHuman.cry()"
   ]
  },
  {
   "cell_type": "code",
   "execution_count": 73,
   "metadata": {},
   "outputs": [
    {
     "name": "stdout",
     "output_type": "stream",
     "text": [
      "hmmm\n"
     ]
    }
   ],
   "source": [
    "newHuman.eat()"
   ]
  },
  {
   "cell_type": "code",
   "execution_count": 74,
   "metadata": {},
   "outputs": [
    {
     "name": "stdout",
     "output_type": "stream",
     "text": [
      "zzzzz\n"
     ]
    }
   ],
   "source": [
    "newHuman.sleep()"
   ]
  },
  {
   "cell_type": "code",
   "execution_count": 75,
   "metadata": {},
   "outputs": [],
   "source": [
    "class AcountBank:\n",
    "    def __init__(self): #constructer\n",
    "        self.name=input(\"please enter your name: \")\n",
    "        self.nationalid=input('please enter id: ')\n",
    "        self.password=int(input(\"please enter your password: \"))\n",
    "        self.phoneNumber=input(\"please enter phone: \")\n",
    "        self.credit=0\n",
    "\n",
    "    def deposit(self):    #instance method\n",
    "        amount = int(input('please enter your deposit amount: '))   #not use self because amount is veriablea \n",
    "        self.credit+=amount\n",
    "        print(\"Done, balance has been added\")\n",
    "\n",
    "    def withdraw(self):\n",
    "        accountpass = int(input(\"please enter your password: \"))\n",
    "        if accountpass == self.password: \n",
    "            amount = int(input('please enter your withdraw amount: '))\n",
    "            if amount <= self.credit: \n",
    "                self.credit -= amount\n",
    "                print(\"Done, please take your money\")\n",
    "            else:\n",
    "                print(\"sorry, you're poor \")\n",
    "        else:\n",
    "            print(\"wrong password\")\n",
    "    \n",
    "    def checkcredit(self):\n",
    "        print(self.credit)\n",
    "\n",
    "    def changepassword(self):\n",
    "        oldpassword = int(input(\"please enter your old password: \"))\n",
    "        if oldpassword==self.password:\n",
    "            newpassword = int(input(\"please enter your new password: \"))\n",
    "            self.password=newpassword\n",
    "\n",
    "        "
   ]
  },
  {
   "cell_type": "code",
   "execution_count": 76,
   "metadata": {},
   "outputs": [],
   "source": [
    "myacc=AcountBank()"
   ]
  },
  {
   "cell_type": "code",
   "execution_count": 77,
   "metadata": {},
   "outputs": [
    {
     "name": "stdout",
     "output_type": "stream",
     "text": [
      "Done, balance has been added\n"
     ]
    }
   ],
   "source": [
    "myacc.deposit()"
   ]
  },
  {
   "cell_type": "code",
   "execution_count": 79,
   "metadata": {},
   "outputs": [
    {
     "data": {
      "text/plain": [
       "1000"
      ]
     },
     "execution_count": 79,
     "metadata": {},
     "output_type": "execute_result"
    }
   ],
   "source": [
    "myacc.credit"
   ]
  },
  {
   "cell_type": "code",
   "execution_count": 80,
   "metadata": {},
   "outputs": [
    {
     "name": "stdout",
     "output_type": "stream",
     "text": [
      "Done, please take your money\n"
     ]
    }
   ],
   "source": [
    "myacc.withdraw()"
   ]
  },
  {
   "cell_type": "code",
   "execution_count": 81,
   "metadata": {},
   "outputs": [
    {
     "name": "stdout",
     "output_type": "stream",
     "text": [
      "800\n"
     ]
    }
   ],
   "source": [
    "myacc.checkcredit()"
   ]
  },
  {
   "cell_type": "code",
   "execution_count": 82,
   "metadata": {},
   "outputs": [],
   "source": [
    "myacc.changepassword()"
   ]
  },
  {
   "cell_type": "code",
   "execution_count": 91,
   "metadata": {},
   "outputs": [],
   "source": [
    "class Student:\n",
    "    no_of_stident=0\n",
    "    def __init__(self,name,age=0,couurses='none'):\n",
    "        self.name=name     #obj attribute pr instance attribute\n",
    "        self.age=age       #public attribute\n",
    "        self.courses=couurses\n",
    "        Student.no_of_stident+=1\n",
    "\n",
    "    def get_name(self):\n",
    "        return self.name\n",
    "    \n",
    "    def set_name(self,newName):\n",
    "        self.name=newName\n",
    "\n",
    "    def is_old(self,num):\n",
    "        if self.age<=num:\n",
    "            print(\"is old\")\n",
    "        else:\n",
    "            print(\"not is old\")"
   ]
  },
  {
   "cell_type": "code",
   "execution_count": 92,
   "metadata": {},
   "outputs": [
    {
     "name": "stdout",
     "output_type": "stream",
     "text": [
      "ahmed\n"
     ]
    }
   ],
   "source": [
    "student1=Student(\"ahmed\",22,[\"python\",'ml'])\n",
    "print(student1.get_name())"
   ]
  },
  {
   "cell_type": "code",
   "execution_count": 96,
   "metadata": {},
   "outputs": [
    {
     "name": "stdout",
     "output_type": "stream",
     "text": [
      "gehad\n"
     ]
    }
   ],
   "source": [
    "student1.set_name(\"gehad\")   #reference\n",
    "print(student1.get_name())"
   ]
  },
  {
   "cell_type": "code",
   "execution_count": 98,
   "metadata": {},
   "outputs": [],
   "source": [
    "class Student:\n",
    "    no_of_stident=0\n",
    "    def __init__(self,name,age=0,couurses='none'):\n",
    "        self.__name=name     #obj attribute pr instance attribute\n",
    "        self.__age=age       #private attribute\n",
    "        self.__courses=couurses\n",
    "        Student.no_of_stident+=1\n",
    "\n",
    "    def get_name(self):\n",
    "        return self.__name\n",
    "    \n",
    "    def set_name(self,newName):\n",
    "        self.__name=newName\n",
    "\n",
    "    def is_old(self,num):\n",
    "        if self.__age<=num:\n",
    "            print(\"is old\")\n",
    "        else:\n",
    "            print(\"not is old\")"
   ]
  },
  {
   "cell_type": "code",
   "execution_count": 101,
   "metadata": {},
   "outputs": [
    {
     "name": "stdout",
     "output_type": "stream",
     "text": [
      "ahmed\n"
     ]
    }
   ],
   "source": [
    "student1=Student(\"ahmed\",22,[\"python\",'ml'])\n",
    "student1.name=\"ali\"            #not change because is private attribute\n",
    "print(student1.get_name())"
   ]
  },
  {
   "cell_type": "code",
   "execution_count": 102,
   "metadata": {},
   "outputs": [
    {
     "name": "stdout",
     "output_type": "stream",
     "text": [
      "ali\n"
     ]
    }
   ],
   "source": [
    "student1=Student(\"ahmed\",22,[\"python\",'ml'])\n",
    "student1.set_name(\"ali\")\n",
    "print(student1.get_name())"
   ]
  },
  {
   "cell_type": "code",
   "execution_count": 106,
   "metadata": {},
   "outputs": [],
   "source": [
    "class Student:\n",
    "    no_of_stident=0\n",
    "    def __init__(self,name,age=0,couurses='none'):\n",
    "        self.__name=name     #obj attribute pr instance attribute\n",
    "        self.__age=age       #private attribute\n",
    "        self.__courses=couurses\n",
    "        Student.no_of_stident+=1\n",
    "\n",
    "    def get_name(self):\n",
    "        return self.__name\n",
    "    \n",
    "    def set_name(self,newName):\n",
    "        self.__age=newName\n",
    "\n",
    "    def get_age(self):\n",
    "        return self.__age\n",
    "    \n",
    "    def set_age(self,newAge):\n",
    "        self.__age=newAge\n",
    "\n",
    "    def is_old(self,num):\n",
    "        if self.__age<=num:\n",
    "            print(\"is old\")\n",
    "        else:\n",
    "            print(\"not is old\")"
   ]
  },
  {
   "cell_type": "code",
   "execution_count": 107,
   "metadata": {},
   "outputs": [
    {
     "name": "stdout",
     "output_type": "stream",
     "text": [
      "22\n"
     ]
    }
   ],
   "source": [
    "student1=Student(\"ahmed\",22,[\"python\",'ml'])\n",
    "student1.age=\"30\"            #not change because is private attribute\n",
    "print(student1.get_age())"
   ]
  },
  {
   "cell_type": "code",
   "execution_count": 108,
   "metadata": {},
   "outputs": [
    {
     "name": "stdout",
     "output_type": "stream",
     "text": [
      "30\n"
     ]
    }
   ],
   "source": [
    "student1=Student(\"ahmed\",22,[\"python\",'ml'])\n",
    "student1.set_age(\"30\")\n",
    "print(student1.get_age())"
   ]
  },
  {
   "cell_type": "code",
   "execution_count": 109,
   "metadata": {},
   "outputs": [],
   "source": [
    "class BankAccountProtected:\n",
    "    \n",
    "    def __init__(self):\n",
    "        self.name = input(\"please enter your name: \")\n",
    "        self._nationalid = input(\"please enter id: \")\n",
    "        self._password = int(input(\"please enter your password\"))\n",
    "        self._phonenumber = input(\"please enter phone: \")\n",
    "        self._credit = 0 \n",
    "    \n",
    "    def __checkpassword(self):\n",
    "        accountpass = int(input(\"please enter your password: \"))\n",
    "        if accountpass == self._password: \n",
    "            return True\n",
    "        else:\n",
    "            return False\n",
    "        \n",
    "    \n",
    "    def deposit(self):\n",
    "        amount= int(input('please enter your deposit amount: '))\n",
    "        self._credit += amount\n",
    "    \n",
    "    def withdraw(self): \n",
    "        if self._checkpassword(): \n",
    "            amount= int(input('please enter your withdraw amount: '))\n",
    "            if amount <= self._credit: \n",
    "                self._credit -= amount\n",
    "            else:\n",
    "                print(\"sorry, you've no money \")\n",
    "        else:\n",
    "            print(\"wrong password\")\n",
    "\n",
    "    def checkcredit(self):\n",
    "        if self._checkpassword():\n",
    "            print(self._credit)\n",
    "        else:\n",
    "            print(\"Wrong password\")\n",
    "    \n",
    "    def changepassword(self):\n",
    "        if self._checkpassword():\n",
    "            newpassword = int(input(\"please enter your new password: \"))\n",
    "            self._password = newpassword\n",
    "        else:\n",
    "            print(\"Wrong password\")"
   ]
  },
  {
   "cell_type": "code",
   "execution_count": 110,
   "metadata": {},
   "outputs": [],
   "source": [
    "class QaterBank(AcountBank):\n",
    "    pass"
   ]
  },
  {
   "cell_type": "code",
   "execution_count": 111,
   "metadata": {},
   "outputs": [],
   "source": [
    "qa=QaterBank()"
   ]
  },
  {
   "cell_type": "code",
   "execution_count": 112,
   "metadata": {},
   "outputs": [
    {
     "data": {
      "text/plain": [
       "'gehad'"
      ]
     },
     "execution_count": 112,
     "metadata": {},
     "output_type": "execute_result"
    }
   ],
   "source": [
    "qa.name"
   ]
  },
  {
   "cell_type": "code",
   "execution_count": 113,
   "metadata": {},
   "outputs": [],
   "source": [
    "from datetime import date\n",
    "class Student:\n",
    "    def __init__(self,name,age=0):\n",
    "        self.name=name     #obj attribute pr instance attribute\n",
    "        self.age=age       #public attribute\n",
    "\n",
    "    def describe(self):\n",
    "        print(f\"my name is {self.name} and my age is {self.age}\")\n",
    "    \n",
    "    @classmethod\n",
    "    def initformatbirthday(cls,name,birthyear):\n",
    "        return cls(name,date.today().year - birthyear)"
   ]
  },
  {
   "cell_type": "code",
   "execution_count": 119,
   "metadata": {},
   "outputs": [
    {
     "name": "stdout",
     "output_type": "stream",
     "text": [
      "my name is ali and my age is 21\n"
     ]
    }
   ],
   "source": [
    "student2=Student.initformatbirthday(\"ali\",2003)  #obj\n",
    "student2.describe()"
   ]
  },
  {
   "cell_type": "code",
   "execution_count": 120,
   "metadata": {},
   "outputs": [],
   "source": [
    "class Pizaa:\n",
    "    def __init__(self,ingradients):     #construer\n",
    "        self.ingradients=ingradients\n",
    "    @classmethod\n",
    "    def veg(cls):\n",
    "        return cls(['olives','mashroum','onins'])\n",
    "    \n",
    "    @classmethod\n",
    "    def margraite(cls):        #virtual constructer\n",
    "        return cls(['tomato','mashroum','onins'])\n"
   ]
  },
  {
   "cell_type": "code",
   "execution_count": 122,
   "metadata": {},
   "outputs": [
    {
     "name": "stdout",
     "output_type": "stream",
     "text": [
      "<__main__.Pizaa object at 0x00000226988F06D0> <__main__.Pizaa object at 0x000002269880DC50> <__main__.Pizaa object at 0x0000022698743DD0>\n"
     ]
    }
   ],
   "source": [
    "pizza1=Pizaa([\"a\",'b'])   #->real constructer\n",
    "pizza2=Pizaa.veg()\n",
    "pizza3=Pizaa.margraite()\n",
    "print(pizza1,pizza2,pizza3)"
   ]
  },
  {
   "cell_type": "code",
   "execution_count": 123,
   "metadata": {},
   "outputs": [],
   "source": [
    "class Pizaa:\n",
    "    def __init__(self,ingradients):     #construer\n",
    "        self.ingradients=ingradients         #user enter ingradients\n",
    "    @classmethod\n",
    "    def veg(cls):\n",
    "        return cls(['olives','mashroum','onins'])\n",
    "    \n",
    "    @classmethod\n",
    "    def margraite(cls):        #virtual constructer\n",
    "        return cls(['tomato','mashroum','onins'])\n",
    "    \n",
    "    def __str__(self):        #dunder function (overwrite ->polymorism)\n",
    "        return f\"pizza ingradients are {self.ingradients}\""
   ]
  },
  {
   "cell_type": "code",
   "execution_count": 124,
   "metadata": {},
   "outputs": [
    {
     "name": "stdout",
     "output_type": "stream",
     "text": [
      "pizza ingradients are ['a', 'b'] pizza ingradients are ['olives', 'mashroum', 'onins'] pizza ingradients are ['tomato', 'mashroum', 'onins']\n"
     ]
    }
   ],
   "source": [
    "pizza1=Pizaa([\"a\",'b'])   #->real constructer\n",
    "pizza2=Pizaa.veg()\n",
    "pizza3=Pizaa.margraite()\n",
    "print(pizza1,pizza2,pizza3)"
   ]
  },
  {
   "cell_type": "code",
   "execution_count": 125,
   "metadata": {},
   "outputs": [],
   "source": [
    "class Math:\n",
    "    @staticmethod\n",
    "    def add(x,y):\n",
    "        return x+y\n",
    "    \n",
    "    @staticmethod\n",
    "    def add5(num):\n",
    "        return num+5\n",
    "    \n",
    "    @staticmethod\n",
    "    def add10(num):\n",
    "        return num+10\n",
    "    \n",
    "    @staticmethod\n",
    "    def sub(x,y):\n",
    "        return abs(x-y)\n",
    "    "
   ]
  },
  {
   "cell_type": "code",
   "execution_count": 127,
   "metadata": {},
   "outputs": [
    {
     "name": "stdout",
     "output_type": "stream",
     "text": [
      "5 9 1\n"
     ]
    }
   ],
   "source": [
    "x=Math.add(2,3)\n",
    "y=Math.add5(4)\n",
    "z=Math.sub(5,6)\n",
    "print(x,y,z)"
   ]
  },
  {
   "cell_type": "code",
   "execution_count": 128,
   "metadata": {},
   "outputs": [],
   "source": [
    "class Dates:\n",
    "    def __init__(self,date):\n",
    "        self.__date=date    #private\n",
    "    \n",
    "    def get_date(self):\n",
    "        return self.__date\n",
    "    \n",
    "    @staticmethod\n",
    "    def toDashDate(date):\n",
    "        return date.replace(\"/\",\"-\")\n",
    "    "
   ]
  },
  {
   "cell_type": "code",
   "execution_count": 132,
   "metadata": {},
   "outputs": [
    {
     "name": "stdout",
     "output_type": "stream",
     "text": [
      "4-9-2024\n",
      "4-9-2024\n"
     ]
    }
   ],
   "source": [
    "date=Dates(\"4-9-2024\")\n",
    "dateframe=\"4/9/2024\"\n",
    "datewithDash=Dates.toDashDate(dateframe)\n",
    "print(datewithDash)\n",
    "print(date.get_date())"
   ]
  },
  {
   "cell_type": "code",
   "execution_count": 130,
   "metadata": {},
   "outputs": [
    {
     "name": "stdout",
     "output_type": "stream",
     "text": [
      "EQUAL\n"
     ]
    }
   ],
   "source": [
    "if (date.get_date()==datewithDash):\n",
    "    print(\"EQUAL\")\n",
    "else:\n",
    "    print(\"not equal\")"
   ]
  },
  {
   "cell_type": "code",
   "execution_count": 133,
   "metadata": {},
   "outputs": [],
   "source": [
    "class Person:\n",
    "    def __init__(self,name,age):\n",
    "        self.name=name\n",
    "        self.age=age\n",
    "    \n",
    "    def display(self):   #instance method\n",
    "        return f\"name is {self.name} and age is {self.age}\"\n",
    "    \n",
    "class Man(Person):   #inheritance\n",
    "    gender='male'\n",
    "    no_of_person=0\n",
    "\n",
    "    def __init__(self, name, age,voice):\n",
    "        super().__init__(name, age)\n",
    "        self.voice=voice\n",
    "        Man.no_of_person+=1\n",
    "\n",
    "    def display(self):     #polymorishm\n",
    "        string=super().display()\n",
    "        return string+ f\" and voice is {self.voice} and gender is {self.gender}\"\n",
    "    \n",
    "\n",
    "\n"
   ]
  },
  {
   "cell_type": "code",
   "execution_count": 134,
   "metadata": {},
   "outputs": [
    {
     "name": "stdout",
     "output_type": "stream",
     "text": [
      "name is ali and age is 20 and voice is hard and gender is male\n",
      "1\n"
     ]
    }
   ],
   "source": [
    "man=Man(\"ali\",20,'hard')\n",
    "print(man.display())\n",
    "print(man.no_of_person)"
   ]
  },
  {
   "cell_type": "code",
   "execution_count": 135,
   "metadata": {},
   "outputs": [],
   "source": [
    "class Person:\n",
    "    def __init__(self,name,age):\n",
    "        self.name=name\n",
    "        self.age=age\n",
    "    \n",
    "    def display(self):   #instance method\n",
    "        return f\"name is {self.name} and age is {self.age}\"\n",
    "    \n",
    "class Man(Person):   #inheritance\n",
    "    gender='male'\n",
    "    no_of_person=0\n",
    "\n",
    "    def __init__(self, name, age,voice):\n",
    "        super().__init__(name, age)\n",
    "        self.voice=voice\n",
    "        Man.no_of_person+=1\n",
    "\n",
    "    def display(self):     #polymorishm\n",
    "        string=super().display()\n",
    "        return string+ f\" and voice is {self.voice} and gender is {self.gender}\"\n",
    "    \n",
    "class Women(Person):   #inheritance\n",
    "    gender='female'\n",
    "    no_of_women=0\n",
    "\n",
    "    def __init__(self, name, age,hair):\n",
    "        super().__init__(name, age)\n",
    "        self.hair=hair\n",
    "        Women.no_of_women+=1\n",
    "\n",
    "    def display(self):     #polymorishm\n",
    "        string=super().display()\n",
    "        return string+ f\" and hair is {self.hair} and gender is {self.gender}\"\n",
    "    \n"
   ]
  },
  {
   "cell_type": "code",
   "execution_count": 138,
   "metadata": {},
   "outputs": [
    {
     "name": "stdout",
     "output_type": "stream",
     "text": [
      "name is gehad and age is 21 and hair is soft and gender is female\n",
      "3\n"
     ]
    }
   ],
   "source": [
    "women=Women(\"gehad\",21,\"soft\")\n",
    "print(women.display())\n",
    "print(women.no_of_women)"
   ]
  },
  {
   "cell_type": "code",
   "execution_count": 139,
   "metadata": {},
   "outputs": [
    {
     "name": "stdout",
     "output_type": "stream",
     "text": [
      "True\n"
     ]
    }
   ],
   "source": [
    "print(isinstance(women,Women))   #obj,class"
   ]
  },
  {
   "cell_type": "code",
   "execution_count": 141,
   "metadata": {},
   "outputs": [
    {
     "name": "stdout",
     "output_type": "stream",
     "text": [
      "False\n"
     ]
    }
   ],
   "source": [
    "print(isinstance(women,Man))"
   ]
  },
  {
   "cell_type": "code",
   "execution_count": 142,
   "metadata": {},
   "outputs": [],
   "source": [
    "from abc import ABC,abstractmethod   #module\n",
    "\n",
    "class Shape(ABC):\n",
    "    @abstractmethod\n",
    "    def area(self):\n",
    "        pass\n",
    "\n",
    "    @abstractmethod\n",
    "    def permiter(self):\n",
    "        pass\n",
    "\n",
    "class Square(Shape):\n",
    "    def __init__(self,side) -> None:\n",
    "        self.__side=side\n",
    "    \n",
    "    def area(self):\n",
    "        return self.__side * self.__side\n",
    "    \n",
    "    def permiter(self):\n",
    "        return self.__side * 4\n",
    "    \n",
    "class Rect(Shape):\n",
    "    def __init__(self,length,weigth):\n",
    "        self.__length=length\n",
    "        self.__weigth=weigth\n",
    "    \n",
    "    def area(self):\n",
    "        return self.__length*self.__weigth\n",
    "    \n",
    "    def permiter(self):\n",
    "        return (self.__length+self.__weigth)*2\n"
   ]
  },
  {
   "cell_type": "code",
   "execution_count": 144,
   "metadata": {},
   "outputs": [
    {
     "name": "stdout",
     "output_type": "stream",
     "text": [
      "Square area is 100 and permiter is 40\n",
      "Square area is 65 and permiter is 36\n"
     ]
    }
   ],
   "source": [
    "square=Square(10)\n",
    "print(f\"Square area is {square.area()} and permiter is {square.permiter()}\")\n",
    "rect=Rect(5,13)\n",
    "print(f\"Square area is {rect.area()} and permiter is {rect.permiter()}\")"
   ]
  }
 ],
 "metadata": {
  "kernelspec": {
   "display_name": "Python 3",
   "language": "python",
   "name": "python3"
  },
  "language_info": {
   "codemirror_mode": {
    "name": "ipython",
    "version": 3
   },
   "file_extension": ".py",
   "mimetype": "text/x-python",
   "name": "python",
   "nbconvert_exporter": "python",
   "pygments_lexer": "ipython3",
   "version": "3.11.6"
  }
 },
 "nbformat": 4,
 "nbformat_minor": 2
}
