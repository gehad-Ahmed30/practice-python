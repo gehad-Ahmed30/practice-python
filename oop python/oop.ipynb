{
 "cells": [
  {
   "cell_type": "code",
   "execution_count": 60,
   "metadata": {},
   "outputs": [
    {
     "name": "stdout",
     "output_type": "stream",
     "text": [
      "<class 'int'>\n"
     ]
    }
   ],
   "source": [
    "x=1   #1 is object in class int\n",
    "print(type(x))"
   ]
  },
  {
   "cell_type": "code",
   "execution_count": 61,
   "metadata": {},
   "outputs": [
    {
     "name": "stdout",
     "output_type": "stream",
     "text": [
      "<class 'str'>\n"
     ]
    }
   ],
   "source": [
    "x=\"abc\"     #abc is object in class string\n",
    "print(type(x))"
   ]
  },
  {
   "cell_type": "code",
   "execution_count": 62,
   "metadata": {},
   "outputs": [
    {
     "name": "stdout",
     "output_type": "stream",
     "text": [
      "GEHAD\n"
     ]
    }
   ],
   "source": [
    "x='gehad'\n",
    "print(x.upper())   #upper is mwthod in class string only"
   ]
  },
  {
   "cell_type": "code",
   "execution_count": 63,
   "metadata": {},
   "outputs": [
    {
     "name": "stdout",
     "output_type": "stream",
     "text": [
      "<__main__.Student object at 0x0000022698F5F210> <__main__.Student object at 0x0000022698F5FF10>\n",
      "2\n"
     ]
    }
   ],
   "source": [
    "class Student:\n",
    "    no_of_stident=0\n",
    "    def __init__(self,name,age=0,couurses='none'):\n",
    "        self.name=name     #obj attribute pr instance attribute\n",
    "        self.age=age\n",
    "        self.courses=couurses\n",
    "        Student.no_of_stident+=1\n",
    "\n",
    "student1=Student(\"ahmed\",22,[\"python\",'ml'])\n",
    "student2=Student(\"ahmed\",22,[\"python\",'ml'])\n",
    "print(student1,student2)   #diffrent location\n",
    "print(Student.no_of_stident)\n",
    "\n"
   ]
  },
  {
   "cell_type": "code",
   "execution_count": 64,
   "metadata": {},
   "outputs": [],
   "source": [
    "class Human:\n",
    "    name=None\n",
    "    gender=None\n",
    "    email=None"
   ]
  },
  {
   "cell_type": "code",
   "execution_count": 65,
   "metadata": {},
   "outputs": [],
   "source": [
    "a=Human() ## a is an object of class human "
   ]
  },
  {
   "cell_type": "code",
   "execution_count": 66,
   "metadata": {},
   "outputs": [
    {
     "name": "stdout",
     "output_type": "stream",
     "text": [
      "<class '__main__.Human'>\n"
     ]
    }
   ],
   "source": [
    "print(type(a))"
   ]
  },
  {
   "cell_type": "code",
   "execution_count": 67,
   "metadata": {},
   "outputs": [],
   "source": [
    "a.name=\"gehad\"\n",
    "a.gender=\"female\"\n",
    "a.email=\"gehad@gmail.com\""
   ]
  },
  {
   "cell_type": "code",
   "execution_count": 68,
   "metadata": {},
   "outputs": [
    {
     "name": "stdout",
     "output_type": "stream",
     "text": [
      "gehad\n"
     ]
    }
   ],
   "source": [
    "print(a.name)"
   ]
  },
  {
   "cell_type": "code",
   "execution_count": 69,
   "metadata": {},
   "outputs": [],
   "source": [
    "class Human:\n",
    "    def __init__(self):\n",
    "        print(\"Welcome Human\")\n",
    "        self.name = input(\"please enter your name: \")\n",
    "        self.gender = input(\"please enter your gender:\") \n",
    "        self.email = input('please enter your email: ') \n",
    "\n",
    "    def eat(self):\n",
    "        print(\"hmmm\")\n",
    "\n",
    "    def sleep(self):\n",
    "        print(\"zzzzz\")\n",
    "\n",
    "    def cry(self):\n",
    "        print(\"waaa\")\n",
    "\n",
    "    def printdata(self):\n",
    "        print(self.name,self.gender,self.email)"
   ]
  },
  {
   "cell_type": "code",
   "execution_count": 70,
   "metadata": {},
   "outputs": [
    {
     "name": "stdout",
     "output_type": "stream",
     "text": [
      "Welcome Human\n"
     ]
    }
   ],
   "source": [
    "newHuman=Human()"
   ]
  },
  {
   "cell_type": "code",
   "execution_count": 71,
   "metadata": {},
   "outputs": [
    {
     "name": "stdout",
     "output_type": "stream",
     "text": [
      "gehad female gehad@gmail.com\n"
     ]
    }
   ],
   "source": [
    "newHuman.printdata()"
   ]
  },
  {
   "cell_type": "code",
   "execution_count": 72,
   "metadata": {},
   "outputs": [
    {
     "name": "stdout",
     "output_type": "stream",
     "text": [
      "waaa\n"
     ]
    }
   ],
   "source": [
    "newHuman.cry()"
   ]
  },
  {
   "cell_type": "code",
   "execution_count": 73,
   "metadata": {},
   "outputs": [
    {
     "name": "stdout",
     "output_type": "stream",
     "text": [
      "hmmm\n"
     ]
    }
   ],
   "source": [
    "newHuman.eat()"
   ]
  },
  {
   "cell_type": "code",
   "execution_count": 74,
   "metadata": {},
   "outputs": [
    {
     "name": "stdout",
     "output_type": "stream",
     "text": [
      "zzzzz\n"
     ]
    }
   ],
   "source": [
    "newHuman.sleep()"
   ]
  },
  {
   "cell_type": "code",
   "execution_count": 75,
   "metadata": {},
   "outputs": [],
   "source": [
    "class AcountBank:\n",
    "    def __init__(self): #constructer\n",
    "        self.name=input(\"please enter your name: \")\n",
    "        self.nationalid=input('please enter id: ')\n",
    "        self.password=int(input(\"please enter your password: \"))\n",
    "        self.phoneNumber=input(\"please enter phone: \")\n",
    "        self.credit=0\n",
    "\n",
    "    def deposit(self):    #instance method\n",
    "        amount = int(input('please enter your deposit amount: '))   #not use self because amount is veriablea \n",
    "        self.credit+=amount\n",
    "        print(\"Done, balance has been added\")\n",
    "\n",
    "    def withdraw(self):\n",
    "        accountpass = int(input(\"please enter your password: \"))\n",
    "        if accountpass == self.password: \n",
    "            amount = int(input('please enter your withdraw amount: '))\n",
    "            if amount <= self.credit: \n",
    "                self.credit -= amount\n",
    "                print(\"Done, please take your money\")\n",
    "            else:\n",
    "                print(\"sorry, you're poor \")\n",
    "        else:\n",
    "            print(\"wrong password\")\n",
    "    \n",
    "    def checkcredit(self):\n",
    "        print(self.credit)\n",
    "\n",
    "    def changepassword(self):\n",
    "        oldpassword = int(input(\"please enter your old password: \"))\n",
    "        if oldpassword==self.password:\n",
    "            newpassword = int(input(\"please enter your new password: \"))\n",
    "            self.password=newpassword\n",
    "\n",
    "        "
   ]
  },
  {
   "cell_type": "code",
   "execution_count": 76,
   "metadata": {},
   "outputs": [],
   "source": [
    "myacc=AcountBank()"
   ]
  },
  {
   "cell_type": "code",
   "execution_count": 77,
   "metadata": {},
   "outputs": [
    {
     "name": "stdout",
     "output_type": "stream",
     "text": [
      "Done, balance has been added\n"
     ]
    }
   ],
   "source": [
    "myacc.deposit()"
   ]
  },
  {
   "cell_type": "code",
   "execution_count": 79,
   "metadata": {},
   "outputs": [
    {
     "data": {
      "text/plain": [
       "1000"
      ]
     },
     "execution_count": 79,
     "metadata": {},
     "output_type": "execute_result"
    }
   ],
   "source": [
    "myacc.credit"
   ]
  },
  {
   "cell_type": "code",
   "execution_count": 80,
   "metadata": {},
   "outputs": [
    {
     "name": "stdout",
     "output_type": "stream",
     "text": [
      "Done, please take your money\n"
     ]
    }
   ],
   "source": [
    "myacc.withdraw()"
   ]
  },
  {
   "cell_type": "code",
   "execution_count": 81,
   "metadata": {},
   "outputs": [
    {
     "name": "stdout",
     "output_type": "stream",
     "text": [
      "800\n"
     ]
    }
   ],
   "source": [
    "myacc.checkcredit()"
   ]
  },
  {
   "cell_type": "code",
   "execution_count": 82,
   "metadata": {},
   "outputs": [],
   "source": [
    "myacc.changepassword()"
   ]
  },
  {
   "cell_type": "code",
   "execution_count": 91,
   "metadata": {},
   "outputs": [],
   "source": [
    "class Student:\n",
    "    no_of_stident=0\n",
    "    def __init__(self,name,age=0,couurses='none'):\n",
    "        self.name=name     #obj attribute pr instance attribute\n",
    "        self.age=age       #public attribute\n",
    "        self.courses=couurses\n",
    "        Student.no_of_stident+=1\n",
    "\n",
    "    def get_name(self):\n",
    "        return self.name\n",
    "    \n",
    "    def set_name(self,newName):\n",
    "        self.name=newName\n",
    "\n",
    "    def is_old(self,num):\n",
    "        if self.age<=num:\n",
    "            print(\"is old\")\n",
    "        else:\n",
    "            print(\"not is old\")"
   ]
  },
  {
   "cell_type": "code",
   "execution_count": 92,
   "metadata": {},
   "outputs": [
    {
     "name": "stdout",
     "output_type": "stream",
     "text": [
      "ahmed\n"
     ]
    }
   ],
   "source": [
    "student1=Student(\"ahmed\",22,[\"python\",'ml'])\n",
    "print(student1.get_name())"
   ]
  },
  {
   "cell_type": "code",
   "execution_count": 96,
   "metadata": {},
   "outputs": [
    {
     "name": "stdout",
     "output_type": "stream",
     "text": [
      "gehad\n"
     ]
    }
   ],
   "source": [
    "student1.set_name(\"gehad\")   #reference\n",
    "print(student1.get_name())"
   ]
  },
  {
   "cell_type": "code",
   "execution_count": 98,
   "metadata": {},
   "outputs": [],
   "source": [
    "class Student:\n",
    "    no_of_stident=0\n",
    "    def __init__(self,name,age=0,couurses='none'):\n",
    "        self.__name=name     #obj attribute pr instance attribute\n",
    "        self.__age=age       #private attribute\n",
    "        self.__courses=couurses\n",
    "        Student.no_of_stident+=1\n",
    "\n",
    "    def get_name(self):\n",
    "        return self.__name\n",
    "    \n",
    "    def set_name(self,newName):\n",
    "        self.__name=newName\n",
    "\n",
    "    def is_old(self,num):\n",
    "        if self.__age<=num:\n",
    "            print(\"is old\")\n",
    "        else:\n",
    "            print(\"not is old\")"
   ]
  },
  {
   "cell_type": "code",
   "execution_count": 101,
   "metadata": {},
   "outputs": [
    {
     "name": "stdout",
     "output_type": "stream",
     "text": [
      "ahmed\n"
     ]
    }
   ],
   "source": [
    "student1=Student(\"ahmed\",22,[\"python\",'ml'])\n",
    "student1.name=\"ali\"            #not change because is private attribute\n",
    "print(student1.get_name())"
   ]
  },
  {
   "cell_type": "code",
   "execution_count": 102,
   "metadata": {},
   "outputs": [
    {
     "name": "stdout",
     "output_type": "stream",
     "text": [
      "ali\n"
     ]
    }
   ],
   "source": [
    "student1=Student(\"ahmed\",22,[\"python\",'ml'])\n",
    "student1.set_name(\"ali\")\n",
    "print(student1.get_name())"
   ]
  },
  {
   "cell_type": "code",
   "execution_count": 106,
   "metadata": {},
   "outputs": [],
   "source": [
    "class Student:\n",
    "    no_of_stident=0\n",
    "    def __init__(self,name,age=0,couurses='none'):\n",
    "        self.__name=name     #obj attribute pr instance attribute\n",
    "        self.__age=age       #private attribute\n",
    "        self.__courses=couurses\n",
    "        Student.no_of_stident+=1\n",
    "\n",
    "    def get_name(self):\n",
    "        return self.__name\n",
    "    \n",
    "    def set_name(self,newName):\n",
    "        self.__age=newName\n",
    "\n",
    "    def get_age(self):\n",
    "        return self.__age\n",
    "    \n",
    "    def set_age(self,newAge):\n",
    "        self.__age=newAge\n",
    "\n",
    "    def is_old(self,num):\n",
    "        if self.__age<=num:\n",
    "            print(\"is old\")\n",
    "        else:\n",
    "            print(\"not is old\")"
   ]
  },
  {
   "cell_type": "code",
   "execution_count": 107,
   "metadata": {},
   "outputs": [
    {
     "name": "stdout",
     "output_type": "stream",
     "text": [
      "22\n"
     ]
    }
   ],
   "source": [
    "student1=Student(\"ahmed\",22,[\"python\",'ml'])\n",
    "student1.age=\"30\"            #not change because is private attribute\n",
    "print(student1.get_age())"
   ]
  },
  {
   "cell_type": "code",
   "execution_count": 108,
   "metadata": {},
   "outputs": [
    {
     "name": "stdout",
     "output_type": "stream",
     "text": [
      "30\n"
     ]
    }
   ],
   "source": [
    "student1=Student(\"ahmed\",22,[\"python\",'ml'])\n",
    "student1.set_age(\"30\")\n",
    "print(student1.get_age())"
   ]
  },
  {
   "cell_type": "code",
   "execution_count": 109,
   "metadata": {},
   "outputs": [],
   "source": [
    "class BankAccountProtected:\n",
    "    \n",
    "    def __init__(self):\n",
    "        self.name = input(\"please enter your name: \")\n",
    "        self._nationalid = input(\"please enter id: \")\n",
    "        self._password = int(input(\"please enter your password\"))\n",
    "        self._phonenumber = input(\"please enter phone: \")\n",
    "        self._credit = 0 \n",
    "    \n",
    "    def __checkpassword(self):\n",
    "        accountpass = int(input(\"please enter your password: \"))\n",
    "        if accountpass == self._password: \n",
    "            return True\n",
    "        else:\n",
    "            return False\n",
    "        \n",
    "    \n",
    "    def deposit(self):\n",
    "        amount= int(input('please enter your deposit amount: '))\n",
    "        self._credit += amount\n",
    "    \n",
    "    def withdraw(self): \n",
    "        if self._checkpassword(): \n",
    "            amount= int(input('please enter your withdraw amount: '))\n",
    "            if amount <= self._credit: \n",
    "                self._credit -= amount\n",
    "            else:\n",
    "                print(\"sorry, you've no money \")\n",
    "        else:\n",
    "            print(\"wrong password\")\n",
    "\n",
    "    def checkcredit(self):\n",
    "        if self._checkpassword():\n",
    "            print(self._credit)\n",
    "        else:\n",
    "            print(\"Wrong password\")\n",
    "    \n",
    "    def changepassword(self):\n",
    "        if self._checkpassword():\n",
    "            newpassword = int(input(\"please enter your new password: \"))\n",
    "            self._password = newpassword\n",
    "        else:\n",
    "            print(\"Wrong password\")"
   ]
  },
  {
   "cell_type": "code",
   "execution_count": 110,
   "metadata": {},
   "outputs": [],
   "source": [
    "class QaterBank(AcountBank):\n",
    "    pass"
   ]
  },
  {
   "cell_type": "code",
   "execution_count": 111,
   "metadata": {},
   "outputs": [],
   "source": [
    "qa=QaterBank()"
   ]
  },
  {
   "cell_type": "code",
   "execution_count": 112,
   "metadata": {},
   "outputs": [
    {
     "data": {
      "text/plain": [
       "'gehad'"
      ]
     },
     "execution_count": 112,
     "metadata": {},
     "output_type": "execute_result"
    }
   ],
   "source": [
    "qa.name"
   ]
  },
  {
   "cell_type": "code",
   "execution_count": 113,
   "metadata": {},
   "outputs": [],
   "source": [
    "from datetime import date\n",
    "class Student:\n",
    "    def __init__(self,name,age=0):\n",
    "        self.name=name     #obj attribute pr instance attribute\n",
    "        self.age=age       #public attribute\n",
    "\n",
    "    def describe(self):\n",
    "        print(f\"my name is {self.name} and my age is {self.age}\")\n",
    "    \n",
    "    @classmethod\n",
    "    def initformatbirthday(cls,name,birthyear):\n",
    "        return cls(name,date.today().year - birthyear)"
   ]
  },
  {
   "cell_type": "code",
   "execution_count": 119,
   "metadata": {},
   "outputs": [
    {
     "name": "stdout",
     "output_type": "stream",
     "text": [
      "my name is ali and my age is 21\n"
     ]
    }
   ],
   "source": [
    "student2=Student.initformatbirthday(\"ali\",2003)  #obj\n",
    "student2.describe()"
   ]
  },
  {
   "cell_type": "code",
   "execution_count": null,
   "metadata": {},
   "outputs": [],
   "source": []
  }
 ],
 "metadata": {
  "kernelspec": {
   "display_name": "Python 3",
   "language": "python",
   "name": "python3"
  },
  "language_info": {
   "codemirror_mode": {
    "name": "ipython",
    "version": 3
   },
   "file_extension": ".py",
   "mimetype": "text/x-python",
   "name": "python",
   "nbconvert_exporter": "python",
   "pygments_lexer": "ipython3",
   "version": "3.11.6"
  }
 },
 "nbformat": 4,
 "nbformat_minor": 2
}
